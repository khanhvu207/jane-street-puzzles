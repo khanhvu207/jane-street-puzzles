{
 "cells": [
  {
   "cell_type": "code",
   "execution_count": 18,
   "id": "cca9b8b6-ffe1-4f45-aab1-337acd33f18a",
   "metadata": {},
   "outputs": [],
   "source": [
    "import numpy as np"
   ]
  },
  {
   "cell_type": "code",
   "execution_count": 23,
   "id": "5565495d-1012-4e63-82ac-800cd2081c41",
   "metadata": {},
   "outputs": [],
   "source": [
    "def polar2car(r, theta):\n",
    "    return (r * np.cos(theta), r * np.sin(theta))\n",
    "\n",
    "# Distance function to calculate squared distance between two points\n",
    "def dist(pos1, pos2):\n",
    "    return (pos1[0] - pos2[0])**2 + (pos1[1] - pos2[1])**2"
   ]
  },
  {
   "cell_type": "code",
   "execution_count": 34,
   "id": "67663ad6-bd97-4b5d-bb17-408445a60369",
   "metadata": {},
   "outputs": [
    {
     "name": "stdout",
     "output_type": "stream",
     "text": [
      "Win prob.:   0.287415\n"
     ]
    }
   ],
   "source": [
    "N = 1000\n",
    "per_sim = 1000\n",
    "theta = np.pi / 4.0\n",
    "origin_pos = (0, 0)\n",
    "erin_pos = polar2car(0.5, theta)\n",
    "\n",
    "rng = np.random.default_rng(42)\n",
    "win_count = 0\n",
    "for i in range(N):\n",
    "    r = rng.random()\n",
    "    flag_pos = polar2car(r, theta)\n",
    "    for _ in range(per_sim):\n",
    "        aaron_pos = polar2car(r, rng.random() * 2.0 * np.pi)\n",
    "        if dist(aaron_pos, flag_pos) < dist(erin_pos, flag_pos):\n",
    "            win_count += 1\n",
    "\n",
    "print(f\"Win prob.: {win_count / N / per_sim:10f}\")"
   ]
  },
  {
   "cell_type": "code",
   "execution_count": null,
   "id": "2e62a17e-95ea-4d54-96c6-0c0f9b4f32cd",
   "metadata": {},
   "outputs": [],
   "source": []
  }
 ],
 "metadata": {
  "kernelspec": {
   "display_name": "Python 3 (ipykernel)",
   "language": "python",
   "name": "python3"
  },
  "language_info": {
   "codemirror_mode": {
    "name": "ipython",
    "version": 3
   },
   "file_extension": ".py",
   "mimetype": "text/x-python",
   "name": "python",
   "nbconvert_exporter": "python",
   "pygments_lexer": "ipython3",
   "version": "3.12.2"
  }
 },
 "nbformat": 4,
 "nbformat_minor": 5
}
