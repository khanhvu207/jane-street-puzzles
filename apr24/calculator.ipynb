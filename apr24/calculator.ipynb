{
 "cells": [
  {
   "cell_type": "code",
   "execution_count": 2,
   "id": "94ac8fbb-242f-476e-8fc0-12d0e020fee8",
   "metadata": {},
   "outputs": [],
   "source": [
    "from sympy import (\n",
    "    symbols, \n",
    "    integrate, \n",
    "    log,\n",
    "    Sum, \n",
    "    diff, \n",
    "    latex, \n",
    "    Eq, \n",
    "    solve, \n",
    "    simplify, \n",
    "    gamma, \n",
    "    loggamma, \n",
    "    digamma, \n",
    "    limit, \n",
    "    oo,\n",
    "    S,\n",
    "    Interval,\n",
    "    maximum,\n",
    "    Abs,\n",
    "    asin,\n",
    "    sqrt,\n",
    "    pi,\n",
    "    print_latex\n",
    ")"
   ]
  },
  {
   "cell_type": "code",
   "execution_count": 3,
   "id": "a85abe7f-d739-479d-ac7b-ccc6876f7771",
   "metadata": {},
   "outputs": [],
   "source": [
    "f, ra, re = symbols(\"f ra re\", real=True, positive=True)"
   ]
  },
  {
   "cell_type": "code",
   "execution_count": 4,
   "id": "6349b34d-52fc-425d-8b85-322f9ac9135d",
   "metadata": {},
   "outputs": [],
   "source": [
    "ra = f - 0\n",
    "re = Abs(f - 0.5)\n",
    "d = ra\n",
    "p = (ra + re + d) / 2"
   ]
  },
  {
   "cell_type": "code",
   "execution_count": 5,
   "id": "b88a95a0-b985-4221-bd29-711d02bca5d8",
   "metadata": {},
   "outputs": [
    {
     "data": {
      "text/latex": [
       "$\\displaystyle \\operatorname{asin}{\\left(\\frac{\\sqrt{f - \\frac{\\left|{f - 0.5}\\right|}{2}} \\sqrt{f + \\frac{\\left|{f - 0.5}\\right|}{2}} \\left|{f - 0.5}\\right|}{f^{2}} \\right)}$"
      ],
      "text/plain": [
       "asin(sqrt(f - Abs(f - 0.5)/2)*sqrt(f + Abs(f - 0.5)/2)*Abs(f - 0.5)/f**2)"
      ]
     },
     "execution_count": 5,
     "metadata": {},
     "output_type": "execute_result"
    }
   ],
   "source": [
    "g = 2 * ra * asin(2 * sqrt(p * (p - ra) * (p - d) * (p - re)) / d / ra) / (2 * pi * ra) * pi\n",
    "g"
   ]
  },
  {
   "cell_type": "code",
   "execution_count": 33,
   "id": "af5fc714-936f-41f3-aec5-ee5e7b36c27b",
   "metadata": {},
   "outputs": [
    {
     "name": "stdout",
     "output_type": "stream",
     "text": [
      "\\frac{\\operatorname{asin}{\\left(\\frac{\\sqrt{f - \\frac{\\left|{f - 0.5}\\right|}{2}} \\sqrt{f + \\frac{\\left|{f - 0.5}\\right|}{2}} \\left|{f - 0.5}\\right|}{f^{2}} \\right)}}{\\pi}\n"
     ]
    }
   ],
   "source": [
    "print_latex(g)"
   ]
  },
  {
   "cell_type": "markdown",
   "id": "0c1e11d3-c801-475b-90a9-b835222e19b3",
   "metadata": {},
   "source": [
    "The final answer is:\n",
    "$0.25 + \\int_{0.25}^{1.0} \\operatorname{asin}{\\left(\\frac{\\sqrt{f - \\frac{\\left|{f - 0.5}\\right|}{2}} \\sqrt{f + \\frac{\\left|{f - 0.5}\\right|}{2}} \\left|{f - 0.5}\\right|}{f^{2}} \\right)} df = 0.356722$"
   ]
  },
  {
   "cell_type": "code",
   "execution_count": null,
   "id": "db76c9cc-6d2f-45a8-aa9f-06786dcae8e4",
   "metadata": {},
   "outputs": [],
   "source": []
  }
 ],
 "metadata": {
  "kernelspec": {
   "display_name": "Python 3 (ipykernel)",
   "language": "python",
   "name": "python3"
  },
  "language_info": {
   "codemirror_mode": {
    "name": "ipython",
    "version": 3
   },
   "file_extension": ".py",
   "mimetype": "text/x-python",
   "name": "python",
   "nbconvert_exporter": "python",
   "pygments_lexer": "ipython3",
   "version": "3.12.2"
  }
 },
 "nbformat": 4,
 "nbformat_minor": 5
}
